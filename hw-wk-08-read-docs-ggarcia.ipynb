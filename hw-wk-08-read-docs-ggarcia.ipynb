{
 "cells": [
  {
   "cell_type": "markdown",
   "id": "81b82f1c",
   "metadata": {},
   "source": [
    "# Unstructured ----> Structured \n",
    "\n",
    "The zipped documents folder for this week contains a mix of document types. For **only** the documents that hold the name of journalists and key data points associated with them, do the following:\n",
    "\n",
    "1. Write a script that reads each relevant document and gathers:\n",
    "- The Name of the journalist\n",
    "- Article headline\n",
    "- Name of publication\n",
    "- Dateline\n",
    "\n",
    "2. Export these data points to a ```.csv``` file\n",
    "\n",
    "\n",
    "Note: I do not want the text associated with these jouralists.\n"
   ]
  },
  {
   "cell_type": "code",
   "execution_count": 1,
   "id": "700be097",
   "metadata": {},
   "outputs": [],
   "source": [
    "## create more cells as needed.\n",
    "\n",
    "# importing the necessary libraries:\n",
    "\n",
    "from bs4 import BeautifulSoup\n",
    "import requests\n",
    "import time\n",
    "from random import randrange\n",
    "import pandas as pd\n",
    "import itertools\n",
    "import wget\n",
    "import glob"
   ]
  },
  {
   "cell_type": "code",
   "execution_count": 7,
   "id": "6fa8c408",
   "metadata": {},
   "outputs": [
    {
     "data": {
      "text/plain": [
       "['hw-wk-08-docs/some-docs-01.txt',\n",
       " 'hw-wk-08-docs/some-docs-02.txt',\n",
       " 'hw-wk-08-docs/some-docs-03.txt',\n",
       " 'hw-wk-08-docs/some-docs-04.txt',\n",
       " 'hw-wk-08-docs/some-docs-05.txt',\n",
       " 'hw-wk-08-docs/some-docs-06.txt',\n",
       " 'hw-wk-08-docs/some-docs-07.txt',\n",
       " 'hw-wk-08-docs/some-docs-08.txt',\n",
       " 'hw-wk-08-docs/some-docs-09.txt',\n",
       " 'hw-wk-08-docs/some-docs-10.txt']"
      ]
     },
     "execution_count": 7,
     "metadata": {},
     "output_type": "execute_result"
    }
   ],
   "source": [
    "## globbing the relevant documents.\n",
    "## \"some-docs*\" tell python to only target those documents. The .txt file \n",
    "## says to target that type of file.\n",
    "\n",
    "all_files = sorted(glob.glob(\"hw-wk-08-docs/some-docs*.txt\"))\n",
    "\n",
    "all_files"
   ]
  },
  {
   "cell_type": "code",
   "execution_count": 18,
   "id": "5b84c471",
   "metadata": {
    "scrolled": true
   },
   "outputs": [
    {
     "name": "stdout",
     "output_type": "stream",
     "text": [
      "['Name: Peter Schjeldahl\\n', '\\n', 'Article: The Mysteries of Mondrian\\n', '\\n', 'Outlet: The New Yorker\\n', '\\n', 'Date: September 26, 2022\\n', '\\n', 'A newly translated biography excavates the enigmatic genius of the Dutch modernist who reduced painting’s whats and hows to a rock-bottom why.\\n', '\\n']\n",
      "['Name: Somini Sengupta\\n', '\\n', 'Article: Inside the Global Effort to Keep Perfectly Good Food Out of the Dump\\n', '\\n', 'Outlet: The New York Times\\n', '\\n', 'Date: Oct. 13, 2022\\n', '\\n', '\\n', 'In Seoul, garbage cans automatically weigh how much food gets tossed in the trash. In London, grocers have stopped putting date labels on fruits and vegetables to reduce confusion about what is still edible. California now requires supermarkets to give away — not throw away — food that is unsold but fine to eat.\\n', '\\n', 'Around the world, a broad array of efforts are being launched to tackle two pressing global problems: hunger and climate change.\\n', '\\n']\n",
      "['Name: Jason L. Riley\\n', '\\n', 'Article: The GOP’s 2022 Midterm Slate Is More Diverse Than Ever\\n', '\\n', 'Outlet: The Wall Street Journal\\n', '\\n', 'Date: Oct. 26, 2022\\n', '\\n', '\\n', 'Democrats face a double whammy in next month’s midterm elections. The latest polls show Republicans regaining control of the House and possibly even winning a majority in the Senate. Equally disconcerting to liberals, these gains could come in a year when the GOP is fielding a historically diverse slate of candidates.\\n', '\\n', '\\n', '\\n']\n",
      "['Name: Nikole Hannah-Jones\\n', '\\n', 'Article: What is owed\\n', '\\n', 'Outlet: The New York Times\\n', '\\n', 'Date: June 30, 2020\\n', '\\n', '\\n', 'If true justice and equality are ever to be achieved in the United States, the country must finally take seriously what it owes black Americans.\\n', '\\n', '\\n', '\\n']\n",
      "['Name: Donald James\\n', '\\n', 'Article: Is City Council Ready to Vote “Yes” on Restaurant Grading Ordinance for Detroit?\\n', '\\n', 'Outlet: Michigan Chronicle\\n', '\\n', 'Date: Oct. 20, 2022\\n', '\\n', '\\n', 'If Detroit City Council member Scott Benson has his way, there will be a resounding “yes” vote by his colleagues in the coming days for his proposed Restaurant Grading Ordinance (RGO). With enough “yes” votes, Detroit will become the first city in Michigan to implement a “color-coded health inspection grading system” for restaurants, joining New York, Pittsburgh, Los Angeles, San Diego, Seattle, Toronto, and other municipalities that Benson said Detroit competes with for talent, tourism dollars, and conventions.  Yet, just over a month ago, Council voted “no” on RGO but left the door open for a future vote.   \\n', '\\n', '\\n']\n",
      "['Name: Lisa Armstrong\\n', '\\n', 'Article: A mother watches helplessly as her teenage boy deteriorates in a Texas youth prison\\n', '\\n', 'Outlet: Texas Tribune\\n', '\\n', 'Date: Aug. 3, 2022\\n', '\\n', '\\n', 'The state of Texas has essentially controlled her son’s life since he was 11. The Texas Juvenile Justice Department was supposed to keep him safe and help him get better. It has failed at every turn.\\n', '\\n', '\\n', '\\n']\n",
      "['Name: Maria Mendez\\n', '\\n', 'Article: Early voting has started in Texas. Here are your rights at the polls.\\n', '\\n', 'Outlet: Texas Tribune\\n', '\\n', 'Date: Oct. 24, 2022\\n', '\\n', 'Early voting runs from Monday, Oct. 24, to Friday, Nov. 4. The last day to apply to vote by mail is Friday, Oct. 28. Election Day is Tuesday, Nov. 8.\\n', '\\n', '\\n', '\\n', '\\n', '\\n']\n",
      "['Name: Candace Pedraza\\n', '\\n', 'Article: Disabled New Yorkers Face Off With MTA Over Dropped Mask Mandate\\n', '\\n', 'Outlet: The City\\n', '\\n', 'Date: Sept. 22, 2022\\n', '\\n', 'The transit agency’s flippant new signs deliver poor public health messaging, disability advocates charge\\n', '\\n', '\\n', '\\n', '\\n', '\\n']\n",
      "['Name: André Beganski\\n', '\\n', 'Article: Indictment Against Former OpenSea Employee Moves Forward\\n', '\\n', 'Outlet: Decrypt\\n', '\\n', 'Date: Oct. 23, 2022\\n', '\\n', 'A judge has denied the defendant’s motion to dismiss wire fraud and money laundering charges.\\n', '\\n', '\\n', '\\n', '\\n', '\\n']\n",
      "['Name: Karen Juanita Carrillo\\n', '\\n', 'Article: Plaque unveiled for African American suffragists in Brooklyn\\n', '\\n', 'Outlet: Amsterdam News\\n', '\\n', 'Date: Oct. 20, 2022\\n', '\\n', 'Voting rights struggles are not new for African Americans. On Saturday, Oct. 15, Brooklynites gathered to celebrate four notable women who fought in the early 1900s to ensure that African American women had the right to vote.\\n', '\\n', 'Congress had passed the 14th and 15th amendments granting African Americans U.S. citizenship rights and prohibiting racial discrimination in voting, but neither amendment was being enforced. So activists such as Sarah J.S. Garnet, Mary E. Eato, Dr. Verina Morton-Jones, and Lydia C. Smith formed and served as officers of the Equal Suffrage League (ESL), where they pushed to have Black citizenship opportunities made real.\\n', '\\n', '\\n', '\\n']\n"
     ]
    }
   ],
   "source": [
    "## Lets get all the relevant text:\n",
    "\n",
    "for txt_file in all_files:\n",
    "    # print(text_files)\n",
    "    with open(txt_file, \"r\") as my_text:\n",
    "        all_text = my_text.readlines()\n",
    "        print(all_text)"
   ]
  },
  {
   "cell_type": "code",
   "execution_count": 9,
   "id": "7e969c58",
   "metadata": {
    "scrolled": true
   },
   "outputs": [
    {
     "data": {
      "text/plain": [
       "14"
      ]
     },
     "execution_count": 9,
     "metadata": {},
     "output_type": "execute_result"
    }
   ],
   "source": [
    "len(all_text)"
   ]
  },
  {
   "cell_type": "code",
   "execution_count": 12,
   "id": "a9915147",
   "metadata": {},
   "outputs": [
    {
     "data": {
      "text/plain": [
       "list"
      ]
     },
     "execution_count": 12,
     "metadata": {},
     "output_type": "execute_result"
    }
   ],
   "source": [
    "type(all_text)"
   ]
  },
  {
   "cell_type": "code",
   "execution_count": 43,
   "id": "daf58baf",
   "metadata": {
    "scrolled": true
   },
   "outputs": [
    {
     "data": {
      "text/plain": [
       "'Name: Karen Juanita Carrillo\\n'"
      ]
     },
     "execution_count": 43,
     "metadata": {},
     "output_type": "execute_result"
    }
   ],
   "source": [
    "all_text[0]\n"
   ]
  },
  {
   "cell_type": "code",
   "execution_count": null,
   "id": "dab9c354",
   "metadata": {},
   "outputs": [],
   "source": [
    "### this is the info I need to target and replace extra characters from.\n",
    "-The Name of the journalist\n",
    "-Article headline\n",
    "-Name of publication\n",
    "-Dateline"
   ]
  },
  {
   "cell_type": "code",
   "execution_count": 47,
   "id": "f70fe8d7",
   "metadata": {},
   "outputs": [
    {
     "name": "stdout",
     "output_type": "stream",
     "text": [
      "hw-wk-08-docs/some-docs-01.txt\n",
      "Peter Schjeldahl\n",
      "The Mysteries of Mondrian\n",
      "The New Yorker\n",
      "September 26, 2022\n",
      "hw-wk-08-docs/some-docs-02.txt\n",
      "Somini Sengupta\n",
      "Inside the Global Effort to Keep Perfectly Good Food Out of the Dump\n",
      "The New York Times\n",
      "Oct. 13, 2022\n",
      "hw-wk-08-docs/some-docs-03.txt\n",
      "Jason L. Riley\n",
      "The GOP’s 2022 Midterm Slate Is More Diverse Than Ever\n",
      "The Wall Street Journal\n",
      "Oct. 26, 2022\n",
      "hw-wk-08-docs/some-docs-04.txt\n",
      "Nikole Hannah-Jones\n",
      "What is owed\n",
      "The New York Times\n",
      "June 30, 2020\n",
      "hw-wk-08-docs/some-docs-05.txt\n",
      "Donald James\n",
      "Is City Council Ready to Vote “Yes” on Restaurant Grading Ordinance for Detroit?\n",
      "Michigan Chronicle\n",
      "Oct. 20, 2022\n",
      "hw-wk-08-docs/some-docs-06.txt\n",
      "Lisa Armstrong\n",
      "A mother watches helplessly as her teenage boy deteriorates in a Texas youth prison\n",
      "Texas Tribune\n",
      "Aug. 3, 2022\n",
      "hw-wk-08-docs/some-docs-07.txt\n",
      "Maria Mendez\n",
      "Early voting has started in Texas. Here are your rights at the polls.\n",
      "Texas Tribune\n",
      "Oct. 24, 2022\n",
      "hw-wk-08-docs/some-docs-08.txt\n",
      "Candace Pedraza\n",
      "Disabled New Yorkers Face Off With MTA Over Dropped Mask Mandate\n",
      "The City\n",
      "Sept. 22, 2022\n",
      "hw-wk-08-docs/some-docs-09.txt\n",
      "André Beganski\n",
      "Indictment Against Former OpenSea Employee Moves Forward\n",
      "Decrypt\n",
      "Oct. 23, 2022\n",
      "hw-wk-08-docs/some-docs-10.txt\n",
      "Karen Juanita Carrillo\n",
      "Plaque unveiled for African American suffragists in Brooklyn\n",
      "Amsterdam News\n",
      "Oct. 20, 2022\n"
     ]
    }
   ],
   "source": [
    "art_basic_info = []\n",
    "\n",
    "\n",
    "for txt_file in all_files:\n",
    "    print(txt_file)\n",
    "    with open(txt_file, \"r\") as my_text:\n",
    "        all_text = my_text.readlines()\n",
    "        jurno_name = all_text[0].replace(\"Name: \", \"\").replace(\"\\n\", \"\")\n",
    "        print(jurno_name)\n",
    "        headline = all_text[2].replace(\"Article: \", \"\").replace(\"\\n\", \"\")\n",
    "        print(headline)\n",
    "        publication = all_text[4].replace(\"Outlet: \", \"\").replace(\"\\n\", \"\")\n",
    "        print(publication)\n",
    "        date = all_text[6].replace(\"Date: \", \"\").replace(\"\\n\", \"\")\n",
    "        print(date)\n",
    "        \n",
    "        art_info_dic = {\"name\": jurno_name,\n",
    "                       \"article\": headline,\n",
    "                       \"outlet\": publication,\n",
    "                       \"date\": date}\n",
    "        art_basic_info.append(art_info_dic)\n",
    "    "
   ]
  },
  {
   "cell_type": "code",
   "execution_count": 48,
   "id": "8474faa8",
   "metadata": {},
   "outputs": [
    {
     "data": {
      "text/html": [
       "<div>\n",
       "<style scoped>\n",
       "    .dataframe tbody tr th:only-of-type {\n",
       "        vertical-align: middle;\n",
       "    }\n",
       "\n",
       "    .dataframe tbody tr th {\n",
       "        vertical-align: top;\n",
       "    }\n",
       "\n",
       "    .dataframe thead th {\n",
       "        text-align: right;\n",
       "    }\n",
       "</style>\n",
       "<table border=\"1\" class=\"dataframe\">\n",
       "  <thead>\n",
       "    <tr style=\"text-align: right;\">\n",
       "      <th></th>\n",
       "      <th>name</th>\n",
       "      <th>article</th>\n",
       "      <th>outlet</th>\n",
       "      <th>date</th>\n",
       "    </tr>\n",
       "  </thead>\n",
       "  <tbody>\n",
       "    <tr>\n",
       "      <th>0</th>\n",
       "      <td>Peter Schjeldahl</td>\n",
       "      <td>The Mysteries of Mondrian</td>\n",
       "      <td>The New Yorker</td>\n",
       "      <td>September 26, 2022</td>\n",
       "    </tr>\n",
       "    <tr>\n",
       "      <th>1</th>\n",
       "      <td>Somini Sengupta</td>\n",
       "      <td>Inside the Global Effort to Keep Perfectly Goo...</td>\n",
       "      <td>The New York Times</td>\n",
       "      <td>Oct. 13, 2022</td>\n",
       "    </tr>\n",
       "    <tr>\n",
       "      <th>2</th>\n",
       "      <td>Jason L. Riley</td>\n",
       "      <td>The GOP’s 2022 Midterm Slate Is More Diverse T...</td>\n",
       "      <td>The Wall Street Journal</td>\n",
       "      <td>Oct. 26, 2022</td>\n",
       "    </tr>\n",
       "    <tr>\n",
       "      <th>3</th>\n",
       "      <td>Nikole Hannah-Jones</td>\n",
       "      <td>What is owed</td>\n",
       "      <td>The New York Times</td>\n",
       "      <td>June 30, 2020</td>\n",
       "    </tr>\n",
       "    <tr>\n",
       "      <th>4</th>\n",
       "      <td>Donald James</td>\n",
       "      <td>Is City Council Ready to Vote “Yes” on Restaur...</td>\n",
       "      <td>Michigan Chronicle</td>\n",
       "      <td>Oct. 20, 2022</td>\n",
       "    </tr>\n",
       "    <tr>\n",
       "      <th>5</th>\n",
       "      <td>Lisa Armstrong</td>\n",
       "      <td>A mother watches helplessly as her teenage boy...</td>\n",
       "      <td>Texas Tribune</td>\n",
       "      <td>Aug. 3, 2022</td>\n",
       "    </tr>\n",
       "    <tr>\n",
       "      <th>6</th>\n",
       "      <td>Maria Mendez</td>\n",
       "      <td>Early voting has started in Texas. Here are yo...</td>\n",
       "      <td>Texas Tribune</td>\n",
       "      <td>Oct. 24, 2022</td>\n",
       "    </tr>\n",
       "    <tr>\n",
       "      <th>7</th>\n",
       "      <td>Candace Pedraza</td>\n",
       "      <td>Disabled New Yorkers Face Off With MTA Over Dr...</td>\n",
       "      <td>The City</td>\n",
       "      <td>Sept. 22, 2022</td>\n",
       "    </tr>\n",
       "    <tr>\n",
       "      <th>8</th>\n",
       "      <td>André Beganski</td>\n",
       "      <td>Indictment Against Former OpenSea Employee Mov...</td>\n",
       "      <td>Decrypt</td>\n",
       "      <td>Oct. 23, 2022</td>\n",
       "    </tr>\n",
       "    <tr>\n",
       "      <th>9</th>\n",
       "      <td>Karen Juanita Carrillo</td>\n",
       "      <td>Plaque unveiled for African American suffragis...</td>\n",
       "      <td>Amsterdam News</td>\n",
       "      <td>Oct. 20, 2022</td>\n",
       "    </tr>\n",
       "  </tbody>\n",
       "</table>\n",
       "</div>"
      ],
      "text/plain": [
       "                     name                                            article  \\\n",
       "0        Peter Schjeldahl                          The Mysteries of Mondrian   \n",
       "1         Somini Sengupta  Inside the Global Effort to Keep Perfectly Goo...   \n",
       "2          Jason L. Riley  The GOP’s 2022 Midterm Slate Is More Diverse T...   \n",
       "3     Nikole Hannah-Jones                                       What is owed   \n",
       "4            Donald James  Is City Council Ready to Vote “Yes” on Restaur...   \n",
       "5          Lisa Armstrong  A mother watches helplessly as her teenage boy...   \n",
       "6            Maria Mendez  Early voting has started in Texas. Here are yo...   \n",
       "7         Candace Pedraza  Disabled New Yorkers Face Off With MTA Over Dr...   \n",
       "8          André Beganski  Indictment Against Former OpenSea Employee Mov...   \n",
       "9  Karen Juanita Carrillo  Plaque unveiled for African American suffragis...   \n",
       "\n",
       "                    outlet                date  \n",
       "0           The New Yorker  September 26, 2022  \n",
       "1       The New York Times       Oct. 13, 2022  \n",
       "2  The Wall Street Journal       Oct. 26, 2022  \n",
       "3       The New York Times       June 30, 2020  \n",
       "4       Michigan Chronicle       Oct. 20, 2022  \n",
       "5            Texas Tribune        Aug. 3, 2022  \n",
       "6            Texas Tribune       Oct. 24, 2022  \n",
       "7                 The City      Sept. 22, 2022  \n",
       "8                  Decrypt       Oct. 23, 2022  \n",
       "9           Amsterdam News       Oct. 20, 2022  "
      ]
     },
     "execution_count": 48,
     "metadata": {},
     "output_type": "execute_result"
    }
   ],
   "source": [
    "df = pd.DataFrame(art_basic_info)\n",
    "\n",
    "df"
   ]
  },
  {
   "cell_type": "code",
   "execution_count": 49,
   "id": "0644fbaf",
   "metadata": {},
   "outputs": [],
   "source": [
    "#exporting to .csv file:\n",
    "\n",
    "df.to_csv(\"article_basic_info.csv\", encoding = \"UTF-8\", index = False )"
   ]
  },
  {
   "cell_type": "code",
   "execution_count": null,
   "id": "81d05c1b",
   "metadata": {},
   "outputs": [],
   "source": []
  }
 ],
 "metadata": {
  "kernelspec": {
   "display_name": "Python 3 (ipykernel)",
   "language": "python",
   "name": "python3"
  },
  "language_info": {
   "codemirror_mode": {
    "name": "ipython",
    "version": 3
   },
   "file_extension": ".py",
   "mimetype": "text/x-python",
   "name": "python",
   "nbconvert_exporter": "python",
   "pygments_lexer": "ipython3",
   "version": "3.9.7"
  }
 },
 "nbformat": 4,
 "nbformat_minor": 5
}
